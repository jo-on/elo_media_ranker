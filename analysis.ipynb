{
 "cells": [
  {
   "cell_type": "code",
   "execution_count": null,
   "id": "f2e400fb",
   "metadata": {},
   "outputs": [],
   "source": [
    "import pandas as pd\n",
    "import plotly.express as px\n",
    "\n",
    "from variables import CSV, GENERAL_SCORER, GENERAL_SCORE_SCALE\n",
    "\n",
    "df = pd.read_csv(CSV, index_col=0)"
   ]
  },
  {
   "cell_type": "code",
   "execution_count": null,
   "id": "5c22df8b",
   "metadata": {},
   "outputs": [],
   "source": [
    "n = 10\n",
    "df = df.sort_values(\"ELO\", ascending=False)\n",
    "print(f\"Top {n} by personal ELO:\")\n",
    "df.head(n)"
   ]
  },
  {
   "cell_type": "code",
   "execution_count": null,
   "id": "d778ec33",
   "metadata": {},
   "outputs": [],
   "source": [
    "df = df.sort_values(\"General_Score\", ascending=False)\n",
    "print(f\"Top 5 by {GENERAL_SCORE_SCALE} Score:\")\n",
    "df.head()"
   ]
  },
  {
   "cell_type": "code",
   "execution_count": null,
   "id": "a3173a85",
   "metadata": {},
   "outputs": [],
   "source": [
    "df[\"Name_Year\"] = df[\"Name\"] + \" (\" + df[\"Year\"].astype(str) + \")\"\n",
    "\n",
    "\n",
    "fig = px.scatter(df, x=\"General_Score\", y=\"ELO\", hover_name=\"Name_Year\", hover_data={\"ELO\": False, \"General_Score\": False}, title=f\"Personal ELO vs. global {GENERAL_SCORER} Rating\",\n",
    "                 labels={\"ELO\": \"ELO\", \"General_Score\": f\"{GENERAL_SCORER} Rating\"}, width=900, height=500, trendline=\"ols\", trendline_color_override=\"red\")\n",
    "\n",
    "fig.update_xaxes(range = GENERAL_SCORE_SCALE)\n",
    "fig.show()\n",
    "\n",
    "\n",
    "fig = px.scatter(df, x=\"Year\", y=\"ELO\", title=\"ELO over the years\", hover_name=\"Name_Year\",\n",
    "                 labels={\"ELO\": \"ELO\", \"Year\": \"Year\"}, width=900, height=500, trendline=\"ols\", trendline_color_override=\"red\")\n",
    "fig.show()\n",
    "\n",
    "\n",
    "fig = px.scatter(df, x=\"Year\", y=\"General_Score\", title=f\"{GENERAL_SCORER} over the years\", hover_name=\"Name_Year\",\n",
    "                 labels={\"General_Score\": f\"{GENERAL_SCORER} Score\", \"Year\": \"Year\"}, width=900, height=500, trendline=\"ols\", trendline_color_override=\"red\")\n",
    "fig.show()"
   ]
  }
 ],
 "metadata": {
  "kernelspec": {
   "display_name": "base",
   "language": "python",
   "name": "python3"
  },
  "language_info": {
   "codemirror_mode": {
    "name": "ipython",
    "version": 3
   },
   "file_extension": ".py",
   "mimetype": "text/x-python",
   "name": "python",
   "nbconvert_exporter": "python",
   "pygments_lexer": "ipython3",
   "version": "3.12.7"
  }
 },
 "nbformat": 4,
 "nbformat_minor": 5
}
